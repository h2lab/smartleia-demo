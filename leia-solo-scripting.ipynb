{
 "cells": [
  {
   "cell_type": "markdown",
   "metadata": {},
   "source": [
    "# LEIA-Solo Quickstart"
   ]
  },
  {
   "cell_type": "markdown",
   "metadata": {},
   "source": [
    "**SUMMARY**: *In this lab, you will learn how to setup and connect to LEIA through the `smartleia_target` SDK. We will also cover how to capture power traces, and how to communicate with target devices*\n",
    "\n",
    "**LEARNING OUTCOMES:**\n",
    "* Setting up LEIA Hardware\n",
    "* Using the smartleia Python API to connect to your hardware\n",
    "* Communication with the target using the smartleia_target SDK\n",
    "* Capturing a power trace\n",
    "\n",
    "## Prerequisites\n",
    "\n",
    "Hold up - before continuing, ensure you have done the following:\n",
    "\n",
    "* ☑ Run through the Jupyter introduction."
   ]
  },
  {
   "cell_type": "markdown",
   "metadata": {},
   "source": [
    "## Physical Setup"
   ]
  },
  {
   "cell_type": "markdown",
   "metadata": {},
   "source": [
    "### Board pinout\n",
    "\n",
    "![LEIA Solo Pinout](https://h2lab.org/images/devices/leia_pinout.png \"LEIA Pinout\")\n",
    "\n",
    "\n",
    "### Testing points\n",
    "\n",
    "![LEIA Solo test points TOP](https://h2lab.org/images/devices/leia_test_points_top.png)\n",
    "\n",
    "![LEIA Solo test points BOT](https://h2lab.org/images/devices/leia_test_points_bot.png)\n",
    "\n",
    "### Setting up measure Mode\n",
    "\n",
    "In order to setup LEIA in the measure mode: \n",
    "\n",
    " * Move the PRG1, PRG2, PRG3 (LEIA Solo < v1.4) and PRG4 to the LEIA position (1-2).\n",
    " * Remove the shunt bypass jumber if it is set.\n",
    " * Move the tearing jumper to the OFF position.\n",
    " * Setup the power source for the smartcard. We would advise an external \"clean\" power source for clean measurements. However, we are able to get proper traces with the USB-C power supply on the funcard. \n",
    " "
   ]
  },
  {
   "cell_type": "markdown",
   "metadata": {},
   "source": [
    "## Communication with the target using the smart leia\n",
    "\n",
    "First you need to import the `smartleia` Python module."
   ]
  },
  {
   "cell_type": "code",
   "execution_count": null,
   "metadata": {},
   "outputs": [],
   "source": [
    "from smartleia import APDU, TriggerPoints"
   ]
  },
  {
   "cell_type": "markdown",
   "metadata": {},
   "source": [
    "### Configuring the scope"
   ]
  },
  {
   "cell_type": "markdown",
   "metadata": {},
   "source": [
    "This completely depends on the scope you use. See the scope documentation, usualy this can be done using SCPI commands through ethernet or USB interface"
   ]
  },
  {
   "cell_type": "markdown",
   "metadata": {},
   "source": [
    "### Configuring the target\n",
    "Now you can setup the LEIA target with the following:"
   ]
  },
  {
   "cell_type": "code",
   "execution_count": null,
   "metadata": {},
   "outputs": [],
   "source": [
    "target = cw.target(scope, targets.LeiaTarget)\n",
    "target.init()\n",
    "wait_for_card(target)\n",
    "target.configure_smartcard()\n",
    "target.select_applet()\n"
   ]
  },
  {
   "cell_type": "markdown",
   "metadata": {},
   "source": [
    "### Waiting for the card to be inserted"
   ]
  },
  {
   "cell_type": "code",
   "execution_count": null,
   "metadata": {},
   "outputs": [],
   "source": [
    "wait_for_card(target)"
   ]
  },
  {
   "cell_type": "markdown",
   "metadata": {},
   "source": [
    "### Reseting the target to a know state"
   ]
  },
  {
   "cell_type": "code",
   "execution_count": null,
   "metadata": {},
   "outputs": [],
   "source": [
    "target.reset()"
   ]
  },
  {
   "cell_type": "markdown",
   "metadata": {},
   "source": [
    "### Select the target AES applet\n",
    "Once everything is setup, it is possible to select the target applet performing the AES with the `select_applet` method:"
   ]
  },
  {
   "cell_type": "code",
   "execution_count": null,
   "metadata": {},
   "outputs": [],
   "source": [
    " target.select_applet(applet=[0x45, 0x75, 0x74, 0x77, 0x74, 0x75, 0x36, 0x41, 0x70, 0x80])"
   ]
  },
  {
   "cell_type": "markdown",
   "metadata": {},
   "source": [
    "### Setting the AES inputs\n",
    "You can set the AES inputs (key and plaintext) with"
   ]
  },
  {
   "cell_type": "code",
   "execution_count": null,
   "metadata": {},
   "outputs": [],
   "source": [
    "key = \"2b7e151628aed2a6abf7158809cf4f3c\"\n",
    "data = \"6bc1bee22e409f96e93d7e117393172a\"\n",
    "\n",
    "set_inputs(target, key, data)"
   ]
  },
  {
   "cell_type": "markdown",
   "metadata": {},
   "source": [
    "### Checking data on the target\n",
    "You can check that the key and the plaintext has indeed been properly setup in the target using:"
   ]
  },
  {
   "cell_type": "code",
   "execution_count": null,
   "metadata": {},
   "outputs": [],
   "source": [
    "target.checkEncryptionKey(key)\n",
    "target.checkPlaintext(data)"
   ]
  },
  {
   "cell_type": "markdown",
   "metadata": {},
   "source": [
    "### Define the trigger strategy\n",
    "Now, in order to do some trace aquisition campaigns, it is necessary to setup triggers. The LEIA target allows to setup triggers in various points in time when sending an APDU and receiving a response using `set_trigger_strategy`, please refer to the `smartleia` documentation to have more information on this! As shown in the example below, the `TriggerPoints.TRIG_PRE_SEND_APDU` allows to launch a trigger juste before sending the APDU to the smart card, with a `delay` of 0."
   ]
  },
  {
   "cell_type": "code",
   "execution_count": null,
   "metadata": {},
   "outputs": [],
   "source": [
    " #Point just before sending a simple APDU\n",
    "target.set_trigger_strategy(1, point_list=[TriggerPoints.TRIG_PRE_SEND_APDU],delay=0)\n",
    "print(target.get_trigger_strategy(1))"
   ]
  },
  {
   "cell_type": "markdown",
   "metadata": {},
   "source": [
    "## Capturing Traces with your favorite scope\n",
    "\n",
    "Let us start recording some power traces! To capture a trace we will use the `scopy` Python library.\n",
    "This library enables driving Lecroy, Owon and ChipWhisprer scopes using a simplified common API.\n",
    "\n",
    "1. Setup you scope manually (nothing to do here if your are using the ChipWhisperer).\n",
    "1. Arm the scope with `scope.arm()`. It will begin capturing as soon as it is triggered.\n",
    "1. If you are using a chipwhisperer `scope.capture()` will read back the captured power trace, blocking until either ChipWhisperer is done recording, or the scope times out. Note that the error return status will tell you whether or not the scope timed out. It does not return the captured scope data.\n",
    "1. Read back the captured power trace with `scope.get_last_trace()`.\n"
   ]
  },
  {
   "cell_type": "code",
   "execution_count": null,
   "metadata": {},
   "outputs": [],
   "source": [
    "from scopy import *\n",
    "import smartleia as SL\n",
    "from smartleia import APDU, TriggerPoints\n",
    "from smartleia_target import TargetController\n",
    "import itertools, sys\n",
    "\n",
    "spinner = itertools.cycle(['-', '/', '|', '\\\\'])\n",
    "\n",
    "\n",
    "def reader_wait_for_card(target):\n",
    "    \"\"\"\n",
    "        Wait for the smartcard to be inserted\n",
    "    \"\"\"\n",
    "    print('Waiting for card to be inserted...\\t',end='')\n",
    "    while not(target.is_card_inserted()):\n",
    "        sys.stdout.write(next(spinner))\n",
    "        time.sleep(0.5)\n",
    "        sys.stdout.flush()            \n",
    "        sys.stdout.write('\\b')\n",
    "    print('OK')\n",
    "\n",
    "\n",
    "AES_TEST_VECTOR_KEY = \"2b7e151628aed2a6abf7158809cf4f3c\"\n",
    "AES_TEST_VECTOR_DATA = \"6bc1bee22e409f96e93d7e117393172a\"\n",
    "AES_TEST_VECTOR_CIPHER = \"3ad77bb40d7a3660a89ecaf32466ef97\"\n",
    "\n",
    "\n",
    "# selecting your scope and opening the connection through the supported interface\n",
    "args = {\n",
    "    'ip': '192.168.100.42',\n",
    "    'port': 3000,\n",
    "    'net_tcp': True\n",
    "}\n",
    "scope = owon_xds(args)\n",
    "\n",
    "\n",
    "# initialise target protocol\n",
    "target = TargetController()\n",
    "reader_wait_for_card(target)\n",
    "target.configure_smartcard(\n",
    "        protocol_to_use = SL.T.T0,\n",
    "        negotiate_pts = False)\n",
    "\n",
    "# selecting the target applet\n",
    "target.select_applet(applet=[0x45, 0x75, 0x74, 0x77, 0x74, 0x75, 0x36, 0x41, 0x70, 0x80])\n",
    "\n",
    "\n",
    "# Setting trigger Point just before sending a simple APDU\n",
    "target.set_trigger_strategy(1, point_list=[TriggerPoints.TRIG_PRE_SEND_APDU],delay=0)\n",
    "\n",
    "# Seting the key\n",
    "key = AES_TEST_VECTOR_KEY\n",
    "plaintext = AES_TEST_VECTOR_DATA\n",
    "target.loadEncryptionKey(key)\n",
    "target.loadInput(plaintext)\n",
    "\n",
    "# arm the scope\n",
    "scope.arm(channels=[1,2]) # We want to capture both the power trace and the trigger signals\n",
    "\n",
    "# launch computation and get the computation time\n",
    "timing = target.go().delta_t\n",
    "\n",
    "# wait for target to finish\n",
    "while target.isDone() is False and timeout:\n",
    "    timeout -= -1\n",
    "    time.sleep(0.01)\n",
    "\n",
    "try:\n",
    "    ret = scope.capture()\n",
    "    if ret:\n",
    "        print(\"Timeout happened during acquisition\")\n",
    "except IOError as e:\n",
    "    print(f\"IOError: {e}\")\n",
    "\n",
    "    \n",
    "cipher = target.readOutput().data\n",
    "\n",
    "# print the result value\n",
    "cipherstr = ''.join('{:02x}'.format(x) for x in cipher)\n",
    "\n",
    "print(cipherstr)\n",
    "\n",
    "# print the expected value\n",
    "expectedstr=''.join('{:02x}'.format(x) for x in target.getExpected())\n",
    "\n",
    "print(expectedstr)\n",
    "   \n",
    "\n"
   ]
  },
  {
   "cell_type": "markdown",
   "metadata": {},
   "source": [
    "## Showing the traces\n",
    "You can plot the traces with:"
   ]
  },
  {
   "cell_type": "code",
   "execution_count": null,
   "metadata": {},
   "outputs": [],
   "source": [
    "import matplotlib.pyplot as plt\n",
    "\n",
    "last_trace = scope.get_last_trace()  \n",
    "\n",
    "plt.plot(last_trace)\n",
    "plt.show()\n"
   ]
  },
  {
   "cell_type": "markdown",
   "metadata": {},
   "source": [
    "## Saving the traces\n",
    "You can save the traces as `numpy` arrays using:"
   ]
  },
  {
   "cell_type": "code",
   "execution_count": null,
   "metadata": {
    "scrolled": true
   },
   "outputs": [],
   "source": [
    "import numpy as np\n",
    "from datetime import datetime\n",
    "from tqdm import trange\n",
    "\n",
    "now = datetime.now()\n",
    "fmt_string = \"{:02}{:02}_{}.npy\"\n",
    "\n",
    "traces = []     # captured traces array\n",
    "datain = []     # testcase data input array\n",
    "known_keys = [] # testcase key input array\n",
    "\n",
    "traces.append(last_trace)\n",
    "datain.append(data)\n",
    "known_key.append(key)\n",
    "\n",
    "trace_array = np.asarray(traces)\n",
    "datain_array = np.asarray(datain)\n",
    "known_keys = np.asarray(keys)\n",
    "\n",
    "trace_file_path = os.path.join(workdir, fmt_string.format(now.hour, now.minute, \"traces\"))\n",
    "datain_file_path = os.path.join(workdir,fmt_string.format(now.hour, now.minute, \"data\"))\n",
    "keys_file_path = os.path.join(workdir,fmt_string.format(now.hour, now.minute, \"keys\"))\n",
    "\n",
    "np.save(trace_file_path, trace_array)\n",
    "np.save(datain_file_path, datain_array)\n",
    "np.save(keys_file_path, known_keys)\n"
   ]
  }
 ],
 "metadata": {
  "kernelspec": {
   "display_name": "Python 3",
   "language": "python",
   "name": "python3"
  },
  "language_info": {
   "codemirror_mode": {
    "name": "ipython",
    "version": 3
   },
   "file_extension": ".py",
   "mimetype": "text/x-python",
   "name": "python",
   "nbconvert_exporter": "python",
   "pygments_lexer": "ipython3",
   "version": "3.9.2"
  }
 },
 "nbformat": 4,
 "nbformat_minor": 2
}
