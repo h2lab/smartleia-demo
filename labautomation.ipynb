{
 "cells": [
  {
   "cell_type": "markdown",
   "metadata": {},
   "source": [
    "# LEIA-Solo Quickstart"
   ]
  },
  {
   "cell_type": "markdown",
   "metadata": {},
   "source": [
    "**SUMMARY**: *In this lab, you will learn how to use LEIA with the `leia_capture_funcard.py` script. We will also cover how to capture power traces using this script*\n",
    "\n",
    "**LEARNING OUTCOMES:**\n",
    "* Setting up LEIA Hardware\n",
    "* Using `leia_capture_funcard.py` to connect to your hardware\n",
    "* Capturing a power trace\n",
    "\n",
    "## Prerequisites\n",
    "\n",
    "Hold up - before continuing, ensure you have done the following:\n",
    "\n",
    "* ☑ Run through the Jupyter introduction."
   ]
  },
  {
   "cell_type": "markdown",
   "metadata": {},
   "source": [
    "## Physical Setup"
   ]
  },
  {
   "cell_type": "markdown",
   "metadata": {},
   "source": [
    "### Board pinout\n",
    "\n",
    "![LEIA Solo Pinout](https://h2lab.org/images/devices/leia_pinout.png \"LEIA Pinout\")\n",
    "\n",
    "\n",
    "### Testing points\n",
    "\n",
    "![LEIA Solo test points TOP](https://h2lab.org/images/devices/leia_test_points_top.png)\n",
    "\n",
    "![LEIA Solo test points BOT](https://h2lab.org/images/devices/leia_test_points_bot.png)\n",
    "\n",
    "### Setting up measure Mode\n",
    "\n",
    "In order to setup LEIA in the measure mode: \n",
    "\n",
    " * Move the PRG1, PRG2, PRG3 (LEIA Solo < v1.4) and PRG4 to the LEIA position (1-2).\n",
    " * Remove the shunt bypass jumber if it is set.\n",
    " * Move the tearing jumper to the OFF position.\n",
    " * Setup the power source for the smartcard. We would advise an external \"clean\" power source for clean measurements. However, we are able to get proper traces with the USB-C power supply on the funcard. "
   ]
  },
  {
   "cell_type": "markdown",
   "metadata": {},
   "source": [
    "# leia_capture_funcard.py\n",
    "\n",
    "This script enables you to capture the funcard power traces without scripting and to store the traces as a `nparray` or a `HDF5` file."
   ]
  },
  {
   "cell_type": "markdown",
   "metadata": {},
   "source": [
    "## Supported parameters"
   ]
  },
  {
   "cell_type": "code",
   "execution_count": 1,
   "metadata": {
    "scrolled": true
   },
   "outputs": [
    {
     "name": "stdout",
     "output_type": "stream",
     "text": [
      "usage: leia_capture_funcard.py [-h] [--nb-traces NB_TRACES]\n",
      "                               [--timeout TIMEOUT] [--output-path OUTPUT_PATH]\n",
      "                               [--use-h5] [--scope SCOPE] [--net_tcp]\n",
      "                               [--ip IP] [--port PORT] [--usb_bulk]\n",
      "                               [--vid VID] [--pid PID]\n",
      "\n",
      "Run trace capture on the the LEIA test applet.\n",
      "\n",
      "optional arguments:\n",
      "  -h, --help            show this help message and exit\n",
      "  --nb-traces NB_TRACES\n",
      "                        How many traces\n",
      "  --timeout TIMEOUT     Capture Timeout\n",
      "  --output-path OUTPUT_PATH\n",
      "                        the path of the output files\n",
      "  --use-h5              Use HDF5 output file format\n",
      "  --scope SCOPE         Avaiable scopes: lecroy, owon_xds, dummy, cw_scope\n",
      "  --net_tcp\n",
      "  --ip IP               scope IP address\n",
      "  --port PORT           scope listening PORT\n",
      "  --usb_bulk\n",
      "  --vid VID             Scope VID\n",
      "  --pid PID             Scope PID\n"
     ]
    }
   ],
   "source": [
    "%run leia_capture_funcard.py --help"
   ]
  },
  {
   "cell_type": "markdown",
   "metadata": {},
   "source": [
    "## Example using a Lecroy scope\n",
    "For example if you want to record 2 traces using your Lecroy scope connected via a TCP interface and store the data as an `h5` container you can run the following command."
   ]
  },
  {
   "cell_type": "code",
   "execution_count": null,
   "metadata": {},
   "outputs": [],
   "source": [
    "%run leia_capture_funcard.py --scope lecroy --net_tcp --ip 192.168.100.42 --nb-traces 2 --output-path /tmp/ --use-h5"
   ]
  },
  {
   "cell_type": "markdown",
   "metadata": {},
   "source": [
    "## Example using the ChipWhisperer as a scope\n",
    "For example if you want to record 2 traces using your ChipWhisperer scope (connected through USB) and store the data as a `h5` container you can run the following command."
   ]
  },
  {
   "cell_type": "code",
   "execution_count": null,
   "metadata": {},
   "outputs": [],
   "source": [
    "%run leia_capture_funcard.py --scope cw_scope --nb-traces 2 --output-path /tmp/ --use-h5"
   ]
  }
 ],
 "metadata": {
  "kernelspec": {
   "display_name": "Python 3",
   "language": "python",
   "name": "python3"
  },
  "language_info": {
   "codemirror_mode": {
    "name": "ipython",
    "version": 3
   },
   "file_extension": ".py",
   "mimetype": "text/x-python",
   "name": "python",
   "nbconvert_exporter": "python",
   "pygments_lexer": "ipython3",
   "version": "3.9.2"
  }
 },
 "nbformat": 4,
 "nbformat_minor": 2
}
