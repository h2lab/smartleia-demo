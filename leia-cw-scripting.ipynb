{
 "cells": [
  {
   "cell_type": "markdown",
   "metadata": {},
   "source": [
    "# LEIA-ChipWhisperer Quickstart"
   ]
  },
  {
   "cell_type": "markdown",
   "metadata": {},
   "source": [
    "**SUMMARY**: *In this lab, you'll learn how to setup and connect to your ChipWhisperer hardware. We'll also cover how to build firmware the LEIA board and target firmware, how to capture power traces, and how to communicate with target devices.*\n",
    "\n",
    "**LEARNING OUTCOMES:**\n",
    "* Setting up LEIA Hardware\n",
    "* Using the smartleia Python API to connect to your hardware\n",
    "* Communication with the target\n",
    "* Capturing a power trace\n",
    "\n",
    "## Prerequisites\n",
    "\n",
    "Hold up - before continuing, ensure you have done the following:\n",
    "\n",
    "* ☑ Clone and install the H2LAB ChipWhisperer repo (https://github.com/h2lab/chipwhisperer)\n",
    "* ☑ Run through the Jupyter introduction.\n",
    "* ☑ Run through the LEIA Solo introduction.\n",
    "* ☑ Update your ChipWhisperer Firmware "
   ]
  },
  {
   "cell_type": "markdown",
   "metadata": {},
   "source": [
    "## Physical Setup"
   ]
  },
  {
   "cell_type": "markdown",
   "metadata": {},
   "source": [
    "### Board pinout\n",
    "\n",
    "![LEIA Solo Pinout](https://h2lab.org/images/devices/leia_pinout.png \"LEIA Pinout\")\n",
    "\n",
    "\n",
    "### Testing points\n",
    "\n",
    "![LEIA Solo test points TOP](https://h2lab.org/images/devices/leia_test_points_top.png)\n",
    "\n",
    "![LEIA Solo test points BOT](https://h2lab.org/images/devices/leia_test_points_bot.png)\n",
    "\n",
    "### Setting up measure Mode\n",
    "\n",
    "In order to setup LEIA in the measure mode: \n",
    "\n",
    " * Move the PRG1, PRG2, PRG3 (LEIA Solo < v1.4) and PRG4 to the LEIA position (1-2).\n",
    " * Remove the shunt bypass jumber if it is set.\n",
    " * Move the tearing jumper to the OFF position.\n",
    " * Setup the power source for the smartcard. We would advise an external \"clean\" power source for clean measurements. However, we are able to get proper traces with the USB-C power supply on the funcard. "
   ]
  },
  {
   "cell_type": "markdown",
   "metadata": {},
   "source": [
    "## Clonning the ChipWhisperer LEIA SOLO repository\n",
    "\n",
    "As the LEIA target has not been (yet) integrated to the Chipwhisperer upstream repository, you will have to install our specific fork from here: https://github.com/h2lab/chipwhisperer\n"
   ]
  },
  {
   "cell_type": "code",
   "execution_count": null,
   "metadata": {
    "scrolled": false
   },
   "outputs": [],
   "source": [
    "!git clone https://github.com/h2lab/chipwhisperer\n",
    "!cd chipwhisperer && python3 -m pip install -e . --user"
   ]
  },
  {
   "cell_type": "markdown",
   "metadata": {},
   "source": [
    "## Connecting to ChipWhisperer\n",
    "\n",
    "Now that your hardware is all setup, we can now learn how to connect to it. We can connect to the ChipWhisperer with:"
   ]
  },
  {
   "cell_type": "code",
   "execution_count": null,
   "metadata": {},
   "outputs": [],
   "source": [
    "import chipwhisperer as cw\n",
    "scope = cw.scope()"
   ]
  },
  {
   "cell_type": "markdown",
   "metadata": {},
   "source": [
    "Connecting to the target device is simple as well:"
   ]
  },
  {
   "cell_type": "code",
   "execution_count": null,
   "metadata": {},
   "outputs": [],
   "source": [
    "target = cw.target(scope, cw.targets.LeiaTarget) "
   ]
  },
  {
   "cell_type": "markdown",
   "metadata": {},
   "source": [
    "## Communication with the Target using the ChipWhisperer\n",
    "\n",
    "Communication with targets is done through the ChipWisperer SDK.\n",
    "\n",
    "First you need to import boath smartleia and the chipwhisperer modules"
   ]
  },
  {
   "cell_type": "code",
   "execution_count": null,
   "metadata": {},
   "outputs": [],
   "source": [
    "from chipwhisperer.capture import targets\n",
    "from chipwhisperer.capture.acq_patterns.basic import AcqKeyTextPattern_Basic\n",
    "from smartleia import APDU, TriggerPoints\n"
   ]
  },
  {
   "cell_type": "markdown",
   "metadata": {},
   "source": [
    "### Configuring the chipwhisperer scope"
   ]
  },
  {
   "cell_type": "code",
   "execution_count": null,
   "metadata": {},
   "outputs": [],
   "source": [
    "scope = cw.scope()\n",
    "# setup scope parameters\n",
    "scope.adc.samples = 10000"
   ]
  },
  {
   "cell_type": "markdown",
   "metadata": {},
   "source": [
    "### Initialize the LEIA reader, \n",
    "\n",
    "Initialize the LEIA reader and wait for the smartcard to be inserted then request the ATR.\n"
   ]
  },
  {
   "cell_type": "code",
   "execution_count": null,
   "metadata": {},
   "outputs": [],
   "source": [
    "import itertools, sys\n",
    "spinner = itertools.cycle(['-', '/', '|', '\\\\'])\n",
    "\n",
    "def wait_for_card(target):\n",
    "    \"\"\"\n",
    "        Wait for the smartcard to be inserted\n",
    "    \"\"\"\n",
    "    print('Waiting for card to be inserted...\\t',end='')\n",
    "    while not(target.is_card_inserted()):\n",
    "        sys.stdout.write(next(spinner))\n",
    "        sys.stdout.flush()            \n",
    "        sys.stdout.write('\\b')\n",
    "    print('OK')\n",
    "    \n",
    "target.init()\n",
    "wait_for_card(target)\n",
    "target.configure_smartcard()\n",
    "target.select_applet()"
   ]
  },
  {
   "cell_type": "markdown",
   "metadata": {},
   "source": [
    "### Reseting the target to a know state"
   ]
  },
  {
   "cell_type": "code",
   "execution_count": null,
   "metadata": {},
   "outputs": [],
   "source": [
    "target.reset()"
   ]
  },
  {
   "cell_type": "markdown",
   "metadata": {},
   "source": [
    "### Initialize a connection to a card"
   ]
  },
  {
   "cell_type": "code",
   "execution_count": null,
   "metadata": {},
   "outputs": [],
   "source": [
    "target.configure_smartcard(protocol_to_use=1,  # Use T=1\n",
    "                           ETU_to_use=None,    # Let the reader determine the ETU to use\n",
    "                           freq_to_use=None,   # Let the reader determine the freq to use\n",
    "                           negotiate_pts=True, # Let the reader negotiate the PTS\n",
    "                           negotiate_baudrate=True\n",
    ")"
   ]
  },
  {
   "cell_type": "markdown",
   "metadata": {},
   "source": [
    "### Initialize a connection to a card Forcing optionnal parameters"
   ]
  },
  {
   "cell_type": "code",
   "execution_count": null,
   "metadata": {},
   "outputs": [],
   "source": [
    "target.configure_smartcard(protocol_to_use=1)  # Use T=1\n",
    "ATR = target.get_ATR()\n",
    "ATR\n",
    "ATR(\n",
    "    ts=0x3B,\n",
    "    t0=0xF9,\n",
    "    ta=[0x13, 0x00, 0xFE, 0x00],\n",
    "    tb=[0x00, 0x00, 0x45, 0x00],\n",
    "    tc=[0x00, 0x00, 0x00, 0x00],\n",
    "    td=[0x81, 0x31, 0x00, 0x00],\n",
    "    h=[0x4A, 0x43, 0x4F, 0x50,\n",
    "       0x32, 0x34, 0x32, 0x52,\n",
    "       0x33, 0x00, 0x00, 0x00,\n",
    "       0x00, 0x00, 0x00, 0x00],\n",
    "    t_mask=[0x05, 0x05, 0x01, 0x03],\n",
    "    h_num=0x09,\n",
    "    tck=0xA2,\n",
    "    tck_present=0x01,\n",
    "    D_i_curr=4,\n",
    "    F_i_curr=372,\n",
    "    f_max_curr=5000000,\n",
    "    T_protocol_curr=1,\n",
    "    ifsc=0\n",
    ")"
   ]
  },
  {
   "cell_type": "markdown",
   "metadata": {},
   "source": [
    "### We can pick parameters"
   ]
  },
  {
   "cell_type": "code",
   "execution_count": null,
   "metadata": {},
   "outputs": [],
   "source": [
    "print(f\"We are using protocol T={ATR.T_protocol_curr} and the frequence of the ISO7816 clock is {ATR.f_max_curr/1000} kHz !\")\n",
    "We are using protocol T=1 and the frequence of the ISO7816 clock is 5000.0 kHz !"
   ]
  },
  {
   "cell_type": "markdown",
   "metadata": {},
   "source": [
    "### Sending APDU to the target "
   ]
  },
  {
   "cell_type": "code",
   "execution_count": null,
   "metadata": {},
   "outputs": [],
   "source": [
    "apdu_select = APDU(cla=0x00, ins=0x01, p1=0x00, p2=0x00)\n",
    "apdu_select\n",
    "APDU(cla=0x0, ins=0x1, p1=0x0, p2=0x0, lc=0, le=0, send_le=1)\n",
    "resp = target.send_APDU(apdu_select)\n",
    "print(resp)\n",
    "target.close()"
   ]
  },
  {
   "cell_type": "markdown",
   "metadata": {},
   "source": [
    "### Select the target applet"
   ]
  },
  {
   "cell_type": "code",
   "execution_count": null,
   "metadata": {},
   "outputs": [],
   "source": [
    " target.select_applet(applet=[0x45, 0x75, 0x74, 0x77, 0x74, 0x75, 0x36, 0x41, 0x70, 0x80])"
   ]
  },
  {
   "cell_type": "markdown",
   "metadata": {},
   "source": [
    "### Define Trigger Strategies \n",
    "\n",
    "Setting a LEIA trigger strategy that point just before sending a simple APDU"
   ]
  },
  {
   "cell_type": "code",
   "execution_count": null,
   "metadata": {},
   "outputs": [],
   "source": [
    "target.set_trigger_strategy(1, point_list=[TriggerPoints.TRIG_PRE_SEND_APDU],delay=0)\n",
    "\n",
    "print(target.get_trigger_strategy(1))"
   ]
  },
  {
   "cell_type": "markdown",
   "metadata": {},
   "source": [
    "### Setting the inputs"
   ]
  },
  {
   "cell_type": "code",
   "execution_count": null,
   "metadata": {},
   "outputs": [],
   "source": [
    "KEY = \"2b7e151628aed2a6abf7158809cf4f3c\"\n",
    "DATA = \"6bc1bee22e409f96e93d7e117393172a\"\n",
    "CIPHER = \"3ad77bb40d7a3660a89ecaf32466ef97\"\n",
    "\n",
    "target.loadEncryptionKey(KEY)\n",
    "target.loadInput(DATA)"
   ]
  },
  {
   "cell_type": "markdown",
   "metadata": {},
   "source": [
    "### Checking data on the target"
   ]
  },
  {
   "cell_type": "code",
   "execution_count": null,
   "metadata": {},
   "outputs": [],
   "source": [
    "target.checkEncryptionKey(KEY)\n",
    "target.checkPlaintext(DATA)"
   ]
  },
  {
   "cell_type": "markdown",
   "metadata": {},
   "source": [
    "## Capturing Traces\n",
    "\n",
    "Now that the target's programmed and we know how to communicate with it, let's start recording some power traces! To capture a trace:\n",
    "\n",
    "1. Arm the ChipWhisperer with `scope.arm()`. It will begin capturing as soon as it is triggered (which in our case is a rising edge on `gpio4`.\n",
    "1. `scope.capture()` will read back the captured power trace, blocking until either ChipWhisperer is done recording, or the scope times out. Note that the error return will tell you whether or not the scope timed out. It does not return the captured scope data.\n",
    "1. You can read back the captured power trace with `scope.get_last_trace()`.\n"
   ]
  },
  {
   "cell_type": "code",
   "execution_count": null,
   "metadata": {},
   "outputs": [],
   "source": [
    "# arm the scope\n",
    "scope.arm()\n",
    "\n",
    "# launch computation\n",
    "target.go()\n",
    "\n",
    "# wait for target to finish\n",
    "while target.isDone() is False and timeout:\n",
    "    timeout -= -1\n",
    "    time.sleep(0.01)\n",
    "\n",
    "try:\n",
    "    ret = scope.capture()\n",
    "    if ret:\n",
    "        print(\"Timeout happened during acquisition\")\n",
    "except IOError as e:\n",
    "    print(f\"IOError: {e}\")\n",
    "\n",
    "cipher = target.readOutput()\n",
    "\n",
    "# print the result value\n",
    "cipherstr = ''.join('{:02x}'.format(x) for x in cipher)\n",
    "print(cipherstr)\n",
    "\n",
    "# print the expected value\n",
    "expectedstr=''.join('{:02x}'.format(x) for x in target.getExpected())\n",
    "print(expectedstr)\n",
    "   \n",
    "\n"
   ]
  },
  {
   "cell_type": "markdown",
   "metadata": {},
   "source": [
    "## Showing the traces"
   ]
  },
  {
   "cell_type": "code",
   "execution_count": null,
   "metadata": {},
   "outputs": [],
   "source": [
    "import matplotlib.pyplot as plt\n",
    "\n",
    "trace = scope.get_last_trace()  \n",
    "\n",
    "plt.plot(trace)\n",
    "plt.show()\n"
   ]
  },
  {
   "cell_type": "markdown",
   "metadata": {},
   "source": [
    "## Saving the traces"
   ]
  },
  {
   "cell_type": "code",
   "execution_count": null,
   "metadata": {},
   "outputs": [],
   "source": [
    "import numpy as np\n",
    "from datetime import datetime\n",
    "\n",
    "now = datetime.now()\n",
    "fmt_string = \"{:02}{:02}_{}.npy\"\n",
    "\n",
    "traces = []     # captured traces array\n",
    "datain = []     # testcase data input array\n",
    "known_keys = [] # testcase key input array\n",
    "\n",
    "traces.append(trace)\n",
    "datain.append()\n",
    "known_key.append\n",
    "\n",
    "trace_array = np.asarray(traces)\n",
    "datain_array = np.asarray(datain)\n",
    "known_keys = np.asarray(keys)\n",
    "\n",
    "\n",
    "trace_file_path = os.path.join(workdir, fmt_string.format(now.hour, now.minute, \"traces\"))\n",
    "datain_file_path = os.path.join(workdir,fmt_string.format(now.hour, now.minute, \"data\"))\n",
    "keys_file_path = os.path.join(workdir,fmt_string.format(now.hour, now.minute, \"keys\"))\n",
    "\n",
    "np.save(trace_file_path, trace_array)\n",
    "np.save(datain_file_path, datain_array)\n",
    "np.save(keys_file_path, known_keys)\n"
   ]
  },
  {
   "cell_type": "markdown",
   "metadata": {},
   "source": [
    "## Conclusion\n",
    "\n",
    "And that's it! \n",
    "As a final step, we should disconnect from the hardware so it doesn't stay \"in use\" by this notebook."
   ]
  },
  {
   "cell_type": "code",
   "execution_count": null,
   "metadata": {},
   "outputs": [],
   "source": [
    "scope.dis()\n",
    "target.dis()"
   ]
  }
 ],
 "metadata": {
  "kernelspec": {
   "display_name": "Python 3",
   "language": "python",
   "name": "python3"
  },
  "language_info": {
   "codemirror_mode": {
    "name": "ipython",
    "version": 3
   },
   "file_extension": ".py",
   "mimetype": "text/x-python",
   "name": "python",
   "nbconvert_exporter": "python",
   "pygments_lexer": "ipython3",
   "version": "3.9.2"
  }
 },
 "nbformat": 4,
 "nbformat_minor": 2
}
