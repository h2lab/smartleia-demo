{
 "cells": [
  {
   "cell_type": "markdown",
   "metadata": {},
   "source": [
    "# LEIA-ChipWhisperer Scripting Quickstart"
   ]
  },
  {
   "cell_type": "markdown",
   "metadata": {},
   "source": [
    "**SUMMARY**: *In this lab, you will learn how to setup and connect to your ChipWhisperer hardware. We will also cover how to capture power traces, and how to communicate with target devices using Python scriping*\n",
    "\n",
    "**LEARNING OUTCOMES:**\n",
    "* Setting up LEIA Hardware\n",
    "* Using the smartleia Python API to connect to your hardware\n",
    "* Communication with the target using the ChipWhisperer SDK\n",
    "* Capturing a power trace\n",
    "\n",
    "## Prerequisites\n",
    "\n",
    "Hold up - before continuing, ensure you have done the following:\n",
    "\n",
    "* ☑ Run through the Jupyter introduction."
   ]
  },
  {
   "cell_type": "markdown",
   "metadata": {},
   "source": [
    "## Physical Setup"
   ]
  },
  {
   "cell_type": "markdown",
   "metadata": {},
   "source": [
    "### Board pinout\n",
    "\n",
    "![LEIA Solo Pinout](https://h2lab.org/images/devices/leia_pinout.png \"LEIA Pinout\")\n",
    "\n",
    "\n",
    "### Testing points\n",
    "\n",
    "![LEIA Solo test points TOP](https://h2lab.org/images/devices/leia_test_points_top.png)\n",
    "\n",
    "![LEIA Solo test points BOT](https://h2lab.org/images/devices/leia_test_points_bot.png)\n",
    "\n",
    "### Setting up measure Mode\n",
    "\n",
    "In order to setup LEIA in the measure mode: \n",
    "\n",
    " * Move the PRG1, PRG2, PRG3 (LEIA Solo < v1.4) and PRG4 to the LEIA position (1-2).\n",
    " * Remove the shunt bypass jumber if it is set.\n",
    " * Move the tearing jumper to the OFF position.\n",
    " * Setup the power source for the smartcard. We would advise an external \"clean\" power source for clean measurements. However, we are able to get proper traces with the USB-C power supply on the funcard. \n",
    " "
   ]
  },
  {
   "cell_type": "markdown",
   "metadata": {},
   "source": [
    "## Connecting to the ChipWhisperer\n",
    "\n",
    "Now that your hardware is all setup, we can see how to connect to it. We can connect to the ChipWhisperer with the Python `import` and function:"
   ]
  },
  {
   "cell_type": "code",
   "execution_count": null,
   "metadata": {},
   "outputs": [],
   "source": [
    "import chipwhisperer as cw\n",
    "scope = cw.scope()"
   ]
  },
  {
   "cell_type": "markdown",
   "metadata": {},
   "source": [
    "By default, ChipWhisperer will try to autodetect the type of device your are running (CWLite/CW1200 or CWNano), see the API documentation for manually specifying the scope type. If you have multiple ChipWhisperer devices connected, you will need to specify the serial number of the device you want to connect to:\n",
    "\n",
    "```python\n",
    "scope = cw.scope(sn='<some long string of numbers>')\n",
    "```\n",
    "\n",
    "For more information, see the API section of readthedocs.\n",
    "\n",
    "Connecting to the target device is simple as well:"
   ]
  },
  {
   "cell_type": "code",
   "execution_count": null,
   "metadata": {},
   "outputs": [],
   "source": [
    "target = cw.target(scope, cw.targets.SimpleSerial) #cw.targets.SimpleSerial can be omitted"
   ]
  },
  {
   "cell_type": "markdown",
   "metadata": {},
   "source": [
    "We will only be discussing the default target type, which is SimpleSerial. Other targets, like the CW305, will be covered in hardware specific demos. \n",
    "\n",
    "The typical default settings can be set using:"
   ]
  },
  {
   "cell_type": "code",
   "execution_count": null,
   "metadata": {},
   "outputs": [],
   "source": [
    "scope.default_setup()"
   ]
  },
  {
   "cell_type": "markdown",
   "metadata": {},
   "source": [
    "which from its [documentation](https://chipwhisperer.readthedocs.io/en/latest/api.html#chipwhisperer.capture.scopes.OpenADC.OpenADC.default_setup) you can see does the following for the CWLite/CW1200:\n",
    "\n",
    "* Sets the scope gain to 45dB\n",
    "* Sets the scope to capture 5000 samples\n",
    "* Sets the scope offset to 0 (aka it will begin capturing as soon as it is triggered)\n",
    "* Sets the scope trigger to rising edge\n",
    "* Outputs a 7.37MHz clock to the target on HS2\n",
    "* Clocks the scope ADC at 4\\*7.37MHz. Note that this is *synchronous* to the target clock on HS2\n",
    "* Assigns GPIO1 as serial RX\n",
    "* Assigns GPIO2 as serial TX"
   ]
  },
  {
   "cell_type": "markdown",
   "metadata": {},
   "source": [
    "## Video demonstration\n",
    "\n",
    "Ajout video ici"
   ]
  },
  {
   "cell_type": "markdown",
   "metadata": {},
   "source": [
    "## Communication with the Target using smartleia\n",
    "\n",
    "Communication with targets, which is done through the `smartleia` python module.\n",
    "\n",
    "### Import and connect to LEIA\n",
    "We `import` the smartleia package"
   ]
  },
  {
   "cell_type": "code",
   "execution_count": null,
   "metadata": {},
   "outputs": [],
   "source": [
    "import smartleia as sl"
   ]
  },
  {
   "cell_type": "markdown",
   "metadata": {},
   "source": [
    "### Connect to the reader\n",
    "Then we establish a connection to the LEIA reader by instanciating a `LEIA` class."
   ]
  },
  {
   "cell_type": "code",
   "execution_count": null,
   "metadata": {},
   "outputs": [],
   "source": [
    "reader = sl.LEIA()"
   ]
  },
  {
   "cell_type": "markdown",
   "metadata": {},
   "source": [
    "### Open a connection to a smart card\n",
    "\n",
    "Verify that the smart card is detected. This supposes of course that your smart card is inserted in the LEIA board ISO7816 connector!"
   ]
  },
  {
   "cell_type": "code",
   "execution_count": null,
   "metadata": {},
   "outputs": [],
   "source": [
    "reader.is_card_inserted()\n",
    "True"
   ]
  },
  {
   "cell_type": "markdown",
   "metadata": {},
   "source": [
    "### Initialize a connection to a smart card\n",
    "Now that the card is detected, we will configure it and detect its ATR (Answer To Reset) using the `configure_smartcard` method. Optional parameters allow to perform tuning on the PTS negociation phase as well as frequency of the communication (`protocol_to_use` chooses between T=0 and T=1, `freq_to_use` fixes the ISO7816 frequency, `negotiate_pts` allows PTS/PSS negotiation with the card, `negotiate_baudrate` allows ETU baudraute negotiation). Please refer to the ISO7816 standard as well as LEIA specific documentation for more details about these elements. The **default** parameters are conservative and should allow you to discuss with most smart cards, but the \"power user\" mode could be of use with some specific cards."
   ]
  },
  {
   "cell_type": "code",
   "execution_count": null,
   "metadata": {},
   "outputs": [],
   "source": [
    "reader.configure_smartcard(protocol_to_use=1,  # Use T=1\n",
    "                           ETU_to_use=None,    # Let the reader determine the ETU to use\n",
    "                           freq_to_use=None,   # Let the reader determine the freq to use\n",
    "                           negotiate_pts=True, # Let the reader negotiate the PTS\n",
    "                           negotiate_baudrate=True\n",
    ")"
   ]
  },
  {
   "cell_type": "markdown",
   "metadata": {},
   "source": [
    "The output of `configure_smartcard` on success should be the following, showing a successful discussion with the smart card. "
   ]
  },
  {
   "cell_type": "code",
   "execution_count": null,
   "metadata": {},
   "outputs": [],
   "source": [
    "reader.configure_smartcard(protocol_to_use=1)  # Use T=1\n",
    "ATR = reader.get_ATR()\n",
    "ATR\n",
    "ATR(\n",
    "    ts=0x3B,\n",
    "    t0=0xF9,\n",
    "    ta=[0x13, 0x00, 0xFE, 0x00],\n",
    "    tb=[0x00, 0x00, 0x45, 0x00],\n",
    "    tc=[0x00, 0x00, 0x00, 0x00],\n",
    "    td=[0x81, 0x31, 0x00, 0x00],\n",
    "    h=[0x4A, 0x43, 0x4F, 0x50,\n",
    "       0x32, 0x34, 0x32, 0x52,\n",
    "       0x33, 0x00, 0x00, 0x00,\n",
    "       0x00, 0x00, 0x00, 0x00],### Initialize a connection to a card Forcing optionnal parameters\n",
    "\n",
    "    t_mask=[0x05, 0x05, 0x01, 0x03],\n",
    "    h_num=0x09,\n",
    "    tck=0xA2,### Initialize a connection to a card Forcing optionnal parameters\n",
    "\n",
    "    tck_present=0x01,\n",
    "    D_i_curr=4,\n",
    "    F_i_curr=372,\n",
    "    f_max_curr=5000000,\n",
    "    T_protocol_curr=1,\n",
    "    ifsc=0\n",
    ")"
   ]
  },
  {
   "cell_type": "markdown",
   "metadata": {},
   "source": [
    "### We can pick parameters"
   ]
  },
  {
   "cell_type": "code",
   "execution_count": null,
   "metadata": {},
   "outputs": [],
   "source": [
    "print(f\"We are using protocol T={ATR.T_protocol_curr} and the frequence of the ISO7816 clock is {ATR.f_max_curr/1000} kHz !\")\n",
    "We are using protocol T=1 and the frequence of the ISO7816 clock is 5000.0 kHz !"
   ]
  },
  {
   "cell_type": "markdown",
   "metadata": {},
   "source": [
    "### Sending APDU to the target\n",
    "Now that everything is setup with the smart card, it is possible to send APDU and receive responses. An APDU can be forged with the `APDU` class constructor (taking classical CLA/INS/P1/P2 plus data), and then use the `send_APDU` method to send it, the output being a response of the `RESP` class (classical SW1 and SW2 plus data response)."
   ]
  },
  {
   "cell_type": "code",
   "execution_count": null,
   "metadata": {},
   "outputs": [],
   "source": [
    "apdu_select = sl.APDU(cla=0x00, ins=0x01, p1=0x00, p2=0x00)\n",
    "apdu_select\n",
    "APDU(cla=0x0, ins=0x1, p1=0x0, p2=0x0, lc=0, le=0, send_le=1)\n",
    "resp = reader.send_APDU(apdu_select)\n",
    "resp\n",
    "RESP(sw1=0x6D, sw2=0x00, le=0x0)\n",
    "reader.close()"
   ]
  },
  {
   "cell_type": "markdown",
   "metadata": {},
   "source": [
    "### Other things we can do …\n",
    "#### Restart LEIA in DFU mode for flashing an update\n",
    "It is possible to update the LEIA reader with a new firmware. In order to put LEIA in DFU mode, simply execute the `dfu()` method. After this, LEIA should be enumerated on the USB interface as a DFU class device, allowing to use DFU utilities such as the open source `dfu-util` CLI tool (that can be found [here](http://dfu-util.sourceforge.net/))."
   ]
  },
  {
   "cell_type": "code",
   "execution_count": null,
   "metadata": {},
   "outputs": [],
   "source": [
    "reader.dfu()"
   ]
  },
  {
   "cell_type": "markdown",
   "metadata": {},
   "source": [
    "## Communication with the Target using the ChipWhisperer\n",
    "\n",
    "Communication with targets is done through the ChipWisperer SDK.\n",
    "\n",
    "First you need to import both `smartleia` and the `chipwhisperer` Python modules"
   ]
  },
  {
   "cell_type": "code",
   "execution_count": null,
   "metadata": {},
   "outputs": [],
   "source": [
    "import chipwhisperer as cw\n",
    "from chipwhisperer.capture import targets\n",
    "from chipwhisperer.capture.acq_patterns.basic import AcqKeyTextPattern_Basic\n",
    "from smartleia import APDU, TriggerPoints"
   ]
  },
  {
   "cell_type": "markdown",
   "metadata": {},
   "source": [
    "### Configuring the ChipWhisperer scope\n",
    "You can configure the ChipWhisperer scope with the following command."
   ]
  },
  {
   "cell_type": "code",
   "execution_count": null,
   "metadata": {},
   "outputs": [],
   "source": [
    "scope = cw.scope()\n",
    "# setup scope parameters\n",
    "scope.gain.gain = 45\n",
    "scope.adc.samples = 10000\n",
    "scope.adc.offset = 0\n",
    "scope.adc.basic_mode = \"rising_edge\"\n",
    "scope.clock.clkgen_freq = 7370000\n",
    "scope.clock.adc_src = \"clkgen_x4\"\n",
    "scope.trigger.triggers = \"tio4\"\n",
    "scope.io.hs2 = \"clkgen\""
   ]
  },
  {
   "cell_type": "markdown",
   "metadata": {},
   "source": [
    "### Configuring the LEIA target\n",
    "Now the specific LEIA target (as a ChipWhisperer target) can be configured using:"
   ]
  },
  {
   "cell_type": "code",
   "execution_count": null,
   "metadata": {},
   "outputs": [],
   "source": [
    "target = cw.target(scope, targets.LeiaTarget)\n",
    "target.init()\n",
    "wait_for_card(target)\n",
    "target.configure_smartcard()\n",
    "target.select_applet()\n"
   ]
  },
  {
   "cell_type": "markdown",
   "metadata": {},
   "source": [
    "### Waiting for the card to be inserted\n",
    "Now wait for the smart card to be inserted with:"
   ]
  },
  {
   "cell_type": "code",
   "execution_count": null,
   "metadata": {},
   "outputs": [],
   "source": [
    "wait_for_card(target)"
   ]
  },
  {
   "cell_type": "markdown",
   "metadata": {},
   "source": [
    "### Reseting the target to a know state\n",
    "At any time, it is possible to reset the target to a known initial state with:"
   ]
  },
  {
   "cell_type": "code",
   "execution_count": null,
   "metadata": {},
   "outputs": [],
   "source": [
    "target.reset()"
   ]
  },
  {
   "cell_type": "markdown",
   "metadata": {},
   "source": [
    "### Select the target AES applet\n",
    "Once everything is setup, it is possible to select the target applet performing the AES with the `select_applet` method:"
   ]
  },
  {
   "cell_type": "code",
   "execution_count": null,
   "metadata": {},
   "outputs": [],
   "source": [
    " target.select_applet(applet=[0x45, 0x75, 0x74, 0x77, 0x74, 0x75, 0x36, 0x41, 0x70, 0x80])"
   ]
  },
  {
   "cell_type": "markdown",
   "metadata": {},
   "source": [
    "### Setting the AES inputs\n",
    "You can set the AES inputs (key and plaintext) with:"
   ]
  },
  {
   "cell_type": "code",
   "execution_count": null,
   "metadata": {},
   "outputs": [],
   "source": [
    "KEY = \"2b7e151628aed2a6abf7158809cf4f3c\"\n",
    "DATA = \"6bc1bee22e409f96e93d7e117393172a\"\n",
    "CIPHER = \"3ad77bb40d7a3660a89ecaf32466ef97\"\n",
    "\n",
    "set_inputs(target, KEY, DATA)"
   ]
  },
  {
   "cell_type": "markdown",
   "metadata": {},
   "source": [
    "### Checking data on the target\n",
    "You can check that the key and the plaintext has indeed been properly setup in the target using:"
   ]
  },
  {
   "cell_type": "code",
   "execution_count": null,
   "metadata": {},
   "outputs": [],
   "source": [
    "target.checkEncryptionKey(key)\n",
    "target.checkPlaintext(data)"
   ]
  },
  {
   "cell_type": "markdown",
   "metadata": {},
   "source": [
    "### Define the trigger strategy\n",
    "Now, in order to do some trace aquisition campaigns, it is necessary to setup triggers. The LEIA target allows to setup triggers in various points in time when sending an APDU and receiving a response using `set_trigger_strategy`, please refer to the `smartleia` documentation to have more information on this! As shown in the example below, the `TriggerPoints.TRIG_PRE_SEND_APDU` allows to launch a trigger juste before sending the APDU to the smart card, with a `delay` of 0."
   ]
  },
  {
   "cell_type": "code",
   "execution_count": null,
   "metadata": {},
   "outputs": [],
   "source": [
    " #Point just before sending a simple APDU\n",
    "target.set_trigger_strategy(1, point_list=[TriggerPoints.TRIG_PRE_SEND_APDU],delay=0)\n",
    "print(target.get_trigger_strategy(1))"
   ]
  },
  {
   "cell_type": "markdown",
   "metadata": {},
   "source": [
    "## Capturing traces\n",
    "\n",
    "Now that the target is programmed and that we know how to communicate with it, let us start recording some power traces! To capture a trace:\n",
    "\n",
    "1. Arm the ChipWhisperer with `scope.arm()`. It will begin capturing as soon as it is triggered (which in our case is a rising edge on `gpio4`: we are in a specific case where the trigger comes from the smart card itself).\n",
    "1. `scope.capture()` will read back the captured power trace, blocking until either ChipWhisperer is done recording, or the scope times out. Note that the error return code will tell you whether or not the scope timed out. It does not return the captured scope data.\n",
    "1. You can read back the captured power trace with `scope.get_last_trace()`.\n"
   ]
  },
  {
   "cell_type": "code",
   "execution_count": null,
   "metadata": {},
   "outputs": [],
   "source": [
    "# arm the scope\n",
    "scope.arm()\n",
    "\n",
    "# launch computation\n",
    "target.go()\n",
    "\n",
    "# wait for target to finish\n",
    "while target.isDone() is False and timeout:\n",
    "    timeout -= -1\n",
    "    time.sleep(0.01)\n",
    "\n",
    "try:\n",
    "    ret = scope.capture()\n",
    "    if ret:\n",
    "        print(\"Timeout happened during acquisition\")\n",
    "except IOError as e:\n",
    "    print(f\"IOError: {e}\")\n",
    "\n",
    "cipher = target.readOutput()\n",
    "\n",
    "# print the result value\n",
    "cipherstr = ''.join('{:02x}'.format(x) for x in cipher)\n",
    "print(cipherstr)\n",
    "\n",
    "# print the expected value\n",
    "expectedstr=''.join('{:02x}'.format(x) for x in target.getExpected()))\n",
    "print(expectedstr)\n",
    "   \n",
    "\n"
   ]
  },
  {
   "cell_type": "markdown",
   "metadata": {},
   "source": [
    "## Showing the traces\n",
    "You can plot the traces with:"
   ]
  },
  {
   "cell_type": "code",
   "execution_count": null,
   "metadata": {},
   "outputs": [],
   "source": [
    "import matplotlib.pyplot as plt\n",
    "\n",
    "trace = scope.get_last_trace()  \n",
    "\n",
    "plt.plot(trace)\n",
    "plt.show()\n"
   ]
  },
  {
   "cell_type": "markdown",
   "metadata": {},
   "source": [
    "## Saving the traces\n",
    "You can save the traces as `numpy` arrays using:"
   ]
  },
  {
   "cell_type": "code",
   "execution_count": null,
   "metadata": {},
   "outputs": [],
   "source": [
    "import numpy as np\n",
    "from datetime import datetime\n",
    "\n",
    "now = datetime.now()\n",
    "fmt_string = \"{:02}{:02}_{}.npy\"\n",
    "\n",
    "traces = []     # captured traces array\n",
    "datain = []     # testcase data input array\n",
    "known_keys = [] # testcase key input array\n",
    "\n",
    "traces.append(trace)\n",
    "datain.append()\n",
    "known_key.append\n",
    "\n",
    "trace_array = np.asarray(traces)\n",
    "datain_array = np.asarray(datain)\n",
    "known_keys = np.asarray(keys)\n",
    "\n",
    "\n",
    "trace_file_path = os.path.join(workdir, fmt_string.format(now.hour, now.minute, \"traces\"))\n",
    "datain_file_path = os.path.join(workdir,fmt_string.format(now.hour, now.minute, \"data\"))\n",
    "keys_file_path = os.path.join(workdir,fmt_string.format(now.hour, now.minute, \"keys\"))\n",
    "\n",
    "np.save(trace_file_path, trace_array)\n",
    "np.save(datain_file_path, datain_array)\n",
    "np.save(keys_file_path, known_keys)\n"
   ]
  },
  {
   "cell_type": "markdown",
   "metadata": {},
   "source": [
    "## Conclusion\n",
    "\n",
    "And that's it! \n",
    "As a final step, we should disconnect from the hardware so it does not stay \"in use\" by this notebook."
   ]
  },
  {
   "cell_type": "code",
   "execution_count": null,
   "metadata": {},
   "outputs": [],
   "source": [
    "scope.dis()\n",
    "target.dis()"
   ]
  }
 ],
 "metadata": {
  "kernelspec": {
   "display_name": "Python 3",
   "language": "python",
   "name": "python3"
  },
  "language_info": {
   "codemirror_mode": {
    "name": "ipython",
    "version": 3
   },
   "file_extension": ".py",
   "mimetype": "text/x-python",
   "name": "python",
   "nbconvert_exporter": "python",
   "pygments_lexer": "ipython3",
   "version": "3.9.2"
  }
 },
 "nbformat": 4,
 "nbformat_minor": 2
}
