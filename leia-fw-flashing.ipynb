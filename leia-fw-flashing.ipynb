{
 "cells": [
  {
   "cell_type": "markdown",
   "metadata": {},
   "source": [
    "# Flashing the LEIA-SOLO firmware"
   ]
  },
  {
   "cell_type": "markdown",
   "metadata": {},
   "source": [
    "**SUMMARY**: *In this lab, you will learn how to deploy the LEIA firmware on a brand new LEIA board*\n",
    "\n",
    "**LEARNING OUTCOMES:**\n",
    "* Flasing/updating LEIA boards\n",
    "\n",
    "## Prerequisites\n",
    "\n",
    "Hold up - before continuing, ensure you have done the following:\n",
    "\n",
    "* ☑ Run through the Jupyter introduction."
   ]
  },
  {
   "cell_type": "markdown",
   "metadata": {},
   "source": [
    "# Building and deploying LEIA-Solo firmware\n",
    "\n",
    "## The way LEIA-Solo is upgraded\n",
    "\n",
    "The goal of LEIA-Solo project is to make its firmware patching, building and flashing process as easy as possible for the community. To achieve this goal:\n",
    "\n",
    "* The LEIA firmware is fully open-source and depends on open-source tools only\n",
    "* The LEIA firmware sources have very few external dependencies\n",
    "* the LEIA board is based on the standard USB <abbr title=\"Device Dirmware Update\">DFU</abbr> firmware update mechanism. This protocol, defined [by the USB consorsium](https://usb.org/sites/default/files/DFU_1.1.pdf) is supported on all well-known OSes such as GNU/Linux, MacOSX, Windows and BSD.\n",
    "\n",
    "\n",
    "## Building the firwmare\n",
    "\n",
    "### About dependencies\n",
    "\n",
    "#### The cross-toolchain\n",
    "\n",
    "The LEIA-Solo board is based on a ARM Cortex M4 CPU core. The compilation step requires a cross-toolchain supporting this hardware target. Some GNU/Linux distributions have packaged such cross-toolchains (for e.g. under the name `gcc-arm-none-eabi`). In the case your distribution does not propose this toolchain, ARM proposes a [list of GCC toolchains for various OSes](https://developer.arm.com/tools-and-software/open-source-software/developer-tools/gnu-toolchain/gnu-rm).\n",
    "\n",
    "Cross-toolchains  for 32bits Cortex M devices such as LEIA-Solo board are prefixed arm-none-eabi (for e.g. `arm-none-eabi-ld` for the linker, etc.). Make sure that:\n",
    "- The cross-toolchain is installed on your system (packaged or through the GNU precompiled tarball)\n",
    "- the cross-toolchain binaries (*bin/* subdir of the toolchain) is in your `PATH`\n",
    "\n",
    "You can check that your cross-toolchain is installed and your environment set by running:"
   ]
  },
  {
   "cell_type": "code",
   "execution_count": null,
   "metadata": {},
   "outputs": [],
   "source": [
    "arm-none-eabi-gcc -v"
   ]
  },
  {
   "cell_type": "markdown",
   "metadata": {},
   "source": [
    "Using built-in specs.\n",
    "COLLECT_GCC=arm-none-eabi-gcc\n",
    "COLLECT_LTO_WRAPPER=/usr/lib/gcc/arm-none-eabi/8.3.1/lto-wrapper\n",
    "Target: arm-none-eabi\n",
    "[...]"
   ]
  },
  {
   "cell_type": "markdown",
   "metadata": {},
   "source": [
    "#### About the Makefiles\n",
    "\n",
    "The firmware Makefiles are written using the GNU Make syntax. This means that BSD Make is not compatible with the firmware build system. On BSD flavoured OSes (Mac OS), take care to install *gmake* if needed.\n",
    "\n",
    "#### About python\n",
    "\n",
    "When upgrading LEIA-Solo, a small Python script is used to check that the LEIA board as properly rebooted on the newly flashed firmware. This small script is compatible with both python 2 and python 3, and thus requires python to be installed.\n",
    "\n",
    "#### About the DFU client\n",
    "\n",
    "On Linux and Mac OS, the tool used in order to deploy the firmware is `dfu-util`, packaged on various distributions. If needed, its source can be found [here](http://dfu-util.sourceforge.net/)."
   ]
  },
  {
   "cell_type": "markdown",
   "metadata": {},
   "source": [
    "### Cloning the LEIA firmware repository"
   ]
  },
  {
   "cell_type": "markdown",
   "metadata": {},
   "source": [
    "The LEIA firmware is accessible [on github](https://github.com/h2lab/leia-solo-firmware.git). A first step is to clone it with `git`:"
   ]
  },
  {
   "cell_type": "code",
   "execution_count": null,
   "metadata": {},
   "outputs": [],
   "source": [
    "!git clone https://github.com/h2lab/leia-solo-firmware\n",
    "!cd leia-solo-firmware"
   ]
  },
  {
   "cell_type": "markdown",
   "metadata": {},
   "source": [
    "## Compiling the firmware\n",
    "\n",
    "Now that the environment is properly set and the dependencies installed, the firmware build is easy:"
   ]
  },
  {
   "cell_type": "code",
   "execution_count": null,
   "metadata": {},
   "outputs": [],
   "source": [
    "!make"
   ]
  },
  {
   "cell_type": "markdown",
   "metadata": {},
   "source": [
    "The firmware and object files are stored in the *build/* directory, under the name `leia-halst.hex` for the HEX format, and `leia-halst.bin` for the raw binary format (HEX files are a standard format for binary objects for embedded systems which is supported by various tools)."
   ]
  },
  {
   "cell_type": "code",
   "execution_count": null,
   "metadata": {},
   "outputs": [],
   "source": [
    "!ls build/"
   ]
  },
  {
   "cell_type": "markdown",
   "metadata": {},
   "source": [
    "### Flashing the board\n",
    "\n",
    "Let's now prepare the board:\n",
    "\n",
    "* On the LEIA-Solo board, be sure that the jumper XX is removed. When removed at reset time, the LEIA board boots using its bootrom DFU mode\n",
    "* connect the board using a USB-C cable\n",
    "* check on the host that the LEIA-Solo board is visible as a DFU device: TODO dmesg\n",
    "\n",
    "Now that the board is connected, we can push the firmware using DFU and a specific `make` target:"
   ]
  },
  {
   "cell_type": "code",
   "execution_count": null,
   "metadata": {},
   "outputs": [],
   "source": [
    "!make dfu"
   ]
  },
  {
   "cell_type": "markdown",
   "metadata": {},
   "source": [
    "# Compiling the firmware\n",
    "Compiling the firmware is shown on the following video:"
   ]
  },
  {
   "cell_type": "code",
   "execution_count": 3,
   "metadata": {},
   "outputs": [
    {
     "data": {
      "image/jpeg": "[encoded data removed]",
      "text/html": [
       "\n",
       "        <iframe\n",
       "            width=\"600\"\n",
       "            height=\"300\"\n",
       "            src=\"https://www.youtube.com/embed/UeiQRLZ4GOA\"\n",
       "            frameborder=\"0\"\n",
       "            allowfullscreen\n",
       "        ></iframe>\n",
       "        "
      ],
      "text/plain": [
       "<IPython.lib.display.YouTubeVideo at 0x7f41bc4ecfa0>"
      ]
     },
     "execution_count": 3,
     "metadata": {},
     "output_type": "execute_result"
    }
   ],
   "source": [
    "from IPython.display import Audio,Image, YouTubeVideo\n",
    "id='UeiQRLZ4GOA'\n",
    "YouTubeVideo(id=id,width=600,height=300)"
   ]
  }
 ],
 "metadata": {
  "kernelspec": {
   "display_name": "Python 3",
   "language": "python",
   "name": "python3"
  },
  "language_info": {
   "codemirror_mode": {
    "name": "ipython",
    "version": 3
   },
   "file_extension": ".py",
   "mimetype": "text/x-python",
   "name": "python",
   "nbconvert_exporter": "python",
   "pygments_lexer": "ipython3",
   "version": "3.8.6"
  }
 },
 "nbformat": 4,
 "nbformat_minor": 2
}
